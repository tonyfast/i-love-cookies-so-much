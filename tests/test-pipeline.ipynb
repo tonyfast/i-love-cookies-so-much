{
 "cells": [
  {
   "cell_type": "code",
   "execution_count": null,
   "metadata": {
    "collapsed": true
   },
   "outputs": [],
   "source": [
    "\"\"\"setup\"\"\"\n",
    "from harness import EasyPipeline\n",
    "from sklearn import *"
   ]
  },
  {
   "cell_type": "code",
   "execution_count": null,
   "metadata": {
    "collapsed": true
   },
   "outputs": [],
   "source": [
    "\"\"\"test_pipeline\"\"\"\n",
    "shoot = EasyPipeline(\n",
    "    [decomposition.PCA(), decomposition.IncrementalPCA()],\n",
    "    [discriminant_analysis.LinearDiscriminantAnalysis(), tree.DecisionTreeClassifier()]\n",
    ")"
   ]
  },
  {
   "cell_type": "code",
   "execution_count": null,
   "metadata": {},
   "outputs": [],
   "source": [
    "\"\"\"setup\"\"\"\n",
    "import pandas\n",
    "from sklearn import *\n",
    "import sklearn\n",
    "from pandas import np\n",
    "from typing import Iterable\n",
    "from whatever.callables import DictCallable\n",
    "from toolz.curried import *\n",
    "from whatever import *\n",
    "import time\n",
    "from typing import Callable\n",
    "__all__ = [\n",
    "    'EasyPipeline'\n",
    "]"
   ]
  }
 ],
 "metadata": {
  "anaconda-cloud": {},
  "kernelspec": {
   "display_name": "Python [Root]",
   "language": "python",
   "name": "Python [Root]"
  },
  "language_info": {
   "codemirror_mode": {
    "name": "ipython",
    "version": 3
   },
   "file_extension": ".py",
   "mimetype": "text/x-python",
   "name": "python",
   "nbconvert_exporter": "python",
   "pygments_lexer": "ipython3",
   "version": "3.5.2"
  }
 },
 "nbformat": 4,
 "nbformat_minor": 0
}
